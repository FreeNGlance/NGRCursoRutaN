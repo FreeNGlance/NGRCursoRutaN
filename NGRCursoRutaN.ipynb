{
 "cells": [
  {
   "cell_type": "markdown",
   "metadata": {},
   "source": [
    "<center>\n",
    "    <img src=\"https://cf-courses-data.s3.us.cloud-object-storage.appdomain.cloud/IBMDeveloperSkillsNetwork-DS0105EN-SkillsNetwork/labs/Module2/images/SN_web_lightmode.png\" width=\"300\" alt=\"cognitiveclass.ai logo\">\n",
    "</center>\n"
   ]
  },
  {
   "cell_type": "markdown",
   "metadata": {},
   "source": [
    "Título del cuaderno: NGRCursoRutaN"
   ]
  },
  {
   "cell_type": "markdown",
   "metadata": {},
   "source": [
    "Introducción al curso de la ciencia de datos "
   ]
  },
  {
   "cell_type": "markdown",
   "metadata": {},
   "source": [
    "Lenguajes de programación\n",
    "Python\n",
    "R\n",
    "SQL\n",
    "Java\n",
    "Julia\n",
    "C++"
   ]
  },
  {
   "cell_type": "markdown",
   "metadata": {},
   "source": [
    "Algunas de las bibliotecas son:\n",
    "pandas\n",
    "numpy\n",
    "scipy\n",
    "tensorflow\n",
    "matploblit"
   ]
  },
  {
   "cell_type": "markdown",
   "metadata": {},
   "source": [
    "| Herramienta      | Uso Principal                   |\n",
    "|------------------|---------------------------------|\n",
    "| Python           | Análisis de datos y machine learning |\n",
    "| R                | Estadísticas y visualización    |\n",
    "| Jupyter Notebook  | Documentación y análisis interactivo |\n",
    "| Pandas           | Manipulación de datos           |\n",
    "| Scikit-learn     | Modelos de machine learning      |\n",
    "| TensorFlow       | Deep learning                   |\n",
    "| Tableau          | Visualización de datos          |\n",
    "| SQL              | Gestión de bases de datos       |\n"
   ]
  },
  {
   "cell_type": "markdown",
   "metadata": {},
   "source": [
    "# Ejemplos de Expresiones Aritméticas\n",
    "\n",
    "A continuación se presentan algunos ejemplos de expresiones aritméticas en Python:\n",
    "\n",
    "- **Suma**: `a + b`\n",
    "- **Resta**: `a - b`\n",
    "- **Multiplicación**: `a * b`\n",
    "- **División**: `a / b`\n",
    "- **Potencia**: `a ** b`"
   ]
  },
  {
   "cell_type": "code",
   "execution_count": 2,
   "metadata": {},
   "outputs": [
    {
     "name": "stdout",
     "output_type": "stream",
     "text": [
      "Resultado de la multiplicación: 50\n",
      "Resultado de la suma: 15\n"
     ]
    }
   ],
   "source": [
    "# Definimos dos números\n",
    "a = 5\n",
    "b = 10\n",
    "\n",
    "# Realizamos la multiplicación\n",
    "resultado_multiplicacion = a * b\n",
    "\n",
    "# Realizamos la suma\n",
    "resultado_suma = a + b\n",
    "\n",
    "# Mostramos los resultados\n",
    "print(\"Resultado de la multiplicación:\", resultado_multiplicacion)\n",
    "print(\"Resultado de la suma:\", resultado_suma)"
   ]
  },
  {
   "cell_type": "code",
   "execution_count": 3,
   "metadata": {},
   "outputs": [
    {
     "name": "stdin",
     "output_type": "stream",
     "text": [
      "Ingrese la cantidad de minutos:  15\n"
     ]
    },
    {
     "name": "stdout",
     "output_type": "stream",
     "text": [
      "15 minutos son 0 horas y 15 minutos.\n"
     ]
    }
   ],
   "source": [
    "# Función para convertir minutos a horas y minutos\n",
    "def convertir_minutos_a_horas(minutos):\n",
    "    horas = minutos // 60  # División entera para obtener las horas\n",
    "    minutos_restantes = minutos % 60  # Módulo para obtener los minutos restantes\n",
    "    return horas, minutos_restantes\n",
    "\n",
    "# Ejemplo de uso\n",
    "minutos_input = int(input(\"Ingrese la cantidad de minutos: \"))\n",
    "horas, minutos_restantes = convertir_minutos_a_horas(minutos_input)\n",
    "\n",
    "print(f\"{minutos_input} minutos son {horas} horas y {minutos_restantes} minutos.\")"
   ]
  },
  {
   "cell_type": "code",
   "execution_count": 4,
   "metadata": {},
   "outputs": [
    {
     "name": "stdout",
     "output_type": "stream",
     "text": [
      "- Aprender para ciencia de datos\n",
      "- Dominar las bibliotecas de análisis de datos\n",
      "- Realizar visualizaciones efectivas\n",
      "- Implementar modelos de machine learning\n",
      "- Desarrollar habilidades en SQL para manejo de bases de datos\n"
     ]
    }
   ],
   "source": [
    "# Lista de objetivos\n",
    "objetivos = [\n",
    "    \"Aprender para ciencia de datos\",\n",
    "    \"Dominar las bibliotecas de análisis de datos\",\n",
    "    \"Realizar visualizaciones efectivas\",\n",
    "    \"Implementar modelos de machine learning\",\n",
    "    \"Desarrollar habilidades en SQL para manejo de bases de datos\"\n",
    "]\n",
    "\n",
    "# Imprimir los objetivos\n",
    "for objetivo in objetivos:\n",
    "    print(\"- \" + objetivo)"
   ]
  },
  {
   "cell_type": "markdown",
   "metadata": {},
   "source": [
    "# Autor\n",
    "\n",
    "Nadya G"
   ]
  }
 ],
 "metadata": {
  "kernelspec": {
   "display_name": "Python 3 (ipykernel)",
   "language": "python",
   "name": "python3"
  },
  "language_info": {
   "codemirror_mode": {
    "name": "ipython",
    "version": 3
   },
   "file_extension": ".py",
   "mimetype": "text/x-python",
   "name": "python",
   "nbconvert_exporter": "python",
   "pygments_lexer": "ipython3",
   "version": "3.11.9"
  }
 },
 "nbformat": 4,
 "nbformat_minor": 4
}
